{
  "nbformat": 4,
  "nbformat_minor": 0,
  "metadata": {
    "colab": {
      "provenance": [],
      "authorship_tag": "ABX9TyP7v5gIoX9bWqA/vOTnSc3B",
      "include_colab_link": true
    },
    "kernelspec": {
      "name": "python3",
      "display_name": "Python 3"
    },
    "language_info": {
      "name": "python"
    }
  },
  "cells": [
    {
      "cell_type": "markdown",
      "metadata": {
        "id": "view-in-github",
        "colab_type": "text"
      },
      "source": [
        "<a href=\"https://colab.research.google.com/github/mthu0605/phanminhthu.github.io/blob/main/buoi02/btbuoi2.ipynb\" target=\"_parent\"><img src=\"https://colab.research.google.com/assets/colab-badge.svg\" alt=\"Open In Colab\"/></a>"
      ]
    },
    {
      "cell_type": "markdown",
      "source": [
        "BÀi THỰC HÀNH\n"
      ],
      "metadata": {
        "id": "Bkx_MAhVPZch"
      }
    },
    {
      "cell_type": "code",
      "execution_count": null,
      "metadata": {
        "colab": {
          "base_uri": "https://localhost:8080/"
        },
        "id": "H4-GatbIG0XV",
        "outputId": "a28ab763-852f-46c8-edfb-f76c764cdb6c"
      },
      "outputs": [
        {
          "output_type": "stream",
          "name": "stdout",
          "text": [
            "**************************\n",
            "* Truong: Dai Hoc UEH    *\n",
            "* Khoa: CNTT             *\n",
            "* Ho ten:                *\n",
            "**************************\n"
          ]
        }
      ],
      "source": [
        "# InNhan\n",
        "\n",
        "print(\"**************************\")\n",
        "print(\"* Truong: Dai Hoc UEH    *\")\n",
        "print(\"* Khoa: CNTT             *\")\n",
        "print(\"* Ho ten:                *\")\n",
        "print(\"**************************\")\n"
      ]
    },
    {
      "cell_type": "code",
      "source": [
        "# HinhTron\n",
        "\n",
        "# Nhập dữ liệu\n",
        "R = float(input(\"Nhap ban kinh R: \"))\n",
        "\n",
        "# Tính toán\n",
        "S = 3.14 * R * R\n",
        "P = 2 * 3.14 * R\n",
        "\n",
        "# Xuất dữ liệu (lấy 1 chữ số thập phân)\n",
        "print(\"Dien tich S = %.1f\" % S)\n",
        "print(\"Chu vi P = %.1f\" % P)\n"
      ],
      "metadata": {
        "colab": {
          "base_uri": "https://localhost:8080/"
        },
        "id": "39zk-5QAHrO4",
        "outputId": "b3629d0b-5c31-452b-b637-8a6c83dea999"
      },
      "execution_count": null,
      "outputs": [
        {
          "output_type": "stream",
          "name": "stdout",
          "text": [
            "Nhap ban kinh R: 5\n",
            "Dien tich S = 78.5\n",
            "Chu vi P = 31.4\n"
          ]
        }
      ]
    },
    {
      "cell_type": "code",
      "source": [
        "# DoiSangGiay\n",
        "\n",
        "# Nhập dữ liệu\n",
        "h = int(input(\"Nhap so gio: \"))\n",
        "m = int(input(\"Nhap so phut: \"))\n",
        "s = int(input(\"Nhap so giay: \"))\n",
        "\n",
        "# Xử lý: đổi sang giây\n",
        "total_seconds = h * 3600 + m * 60 + s\n",
        "\n",
        "# Xuất dữ liệu\n",
        "print(\"Tong so giay cua %d:%d:%d la %d giay\" % (h, m, s, total_seconds))\n"
      ],
      "metadata": {
        "colab": {
          "base_uri": "https://localhost:8080/"
        },
        "id": "c-GXzNHiIVcy",
        "outputId": "bf9f11d7-3553-4535-b2aa-5fcb62cd7280"
      },
      "execution_count": null,
      "outputs": [
        {
          "output_type": "stream",
          "name": "stdout",
          "text": [
            "Nhap so gio: 1\n",
            "Nhap so phut: 20\n",
            "Nhap so giay: 10\n",
            "Tong so giay cua 1:20:10 la 4810 giay\n"
          ]
        }
      ]
    },
    {
      "cell_type": "code",
      "source": [
        "# DoiSangGioPhutGiay\n",
        "\n",
        "# Nhập dữ liệu\n",
        "t = int(input(\"Nhap vao tong so giay: \"))\n",
        "\n",
        "# Xử lý: tách giờ, phút, giây\n",
        "h = t // 3600            # số giờ\n",
        "m = (t % 3600) // 60     # số phút\n",
        "s = t % 60               # số giây còn lại\n",
        "\n",
        "# Xuất dữ liệu\n",
        "print(\"%d giay co dang %d:%d:%d\" % (t, h, m, s))\n"
      ],
      "metadata": {
        "colab": {
          "base_uri": "https://localhost:8080/"
        },
        "id": "vqvhYykIIhEs",
        "outputId": "41cf3ac4-4729-412c-b173-50b7bbb1b7da"
      },
      "execution_count": null,
      "outputs": [
        {
          "output_type": "stream",
          "name": "stdout",
          "text": [
            "Nhap vao tong so giay: 4810\n",
            "4810 giay co dang 1:20:10\n"
          ]
        }
      ]
    },
    {
      "cell_type": "code",
      "source": [
        "# DienTichTamGiac\n",
        "\n",
        "import math\n",
        "\n",
        "# Nhập dữ liệu\n",
        "a = float(input(\"Nhap do dai canh a: \"))\n",
        "b = float(input(\"Nhap do dai canh b: \"))\n",
        "c = float(input(\"Nhap do dai canh c: \"))\n",
        "\n",
        "# Xử lý: công thức Heron\n",
        "p = (a + b + c) / 2\n",
        "S = math.sqrt(p * (p - a) * (p - b) * (p - c))\n",
        "\n",
        "# Xuất dữ liệu\n",
        "print(\"Dien tich tam giac S = %.2f\" % S)\n"
      ],
      "metadata": {
        "colab": {
          "base_uri": "https://localhost:8080/"
        },
        "id": "Wd3xeuXxJRaW",
        "outputId": "2f2dbfa7-8e47-4506-8bc2-e6e2ea55d040"
      },
      "execution_count": null,
      "outputs": [
        {
          "output_type": "stream",
          "name": "stdout",
          "text": [
            "Nhap do dai canh a: 2\n",
            "Nhap do dai canh b: 4\n",
            "Nhap do dai canh c: 3\n",
            "Dien tich tam giac S = 2.90\n"
          ]
        }
      ]
    },
    {
      "cell_type": "code",
      "source": [
        "# TinhMu\n",
        "\n",
        "# Nhập dữ liệu\n",
        "a = float(input(\"Nhap so thuc a: \"))\n",
        "n = int(input(\"Nhap so mu n: \"))\n",
        "\n",
        "# Xử lý\n",
        "ketqua = a ** n   # toán tử ** là lũy thừa trong Python\n",
        "\n",
        "# Xuất dữ liệu\n",
        "print(\"Ket qua %.0f^%d = %.0f\" % (a, n, ketqua))\n"
      ],
      "metadata": {
        "colab": {
          "base_uri": "https://localhost:8080/"
        },
        "id": "O32qld6eJ7X7",
        "outputId": "94d4d63e-8114-4957-c345-069f8c650255"
      },
      "execution_count": null,
      "outputs": [
        {
          "output_type": "stream",
          "name": "stdout",
          "text": [
            "Nhap so thuc a: 2\n",
            "Nhap so mu n: 4\n",
            "Ket qua 2^4 = 16\n"
          ]
        }
      ]
    },
    {
      "cell_type": "code",
      "source": [
        "# DaoSo\n",
        "\n",
        "# Nhập dữ liệu\n",
        "x = int(input(\"Nhap so nguyen x (co 4 chu so): \"))\n",
        "\n",
        "# Xử lý: đảo số\n",
        "# Cách 1: dùng chuỗi\n",
        "y = int(str(x)[::-1])\n",
        "\n",
        "# Xuất dữ liệu\n",
        "print(\"So dao cua %d la %d\" % (x, y))\n"
      ],
      "metadata": {
        "colab": {
          "base_uri": "https://localhost:8080/"
        },
        "id": "W2cyVkPsKJk1",
        "outputId": "d546c583-81f4-4d46-dd80-84c1cb2e3c73"
      },
      "execution_count": null,
      "outputs": [
        {
          "output_type": "stream",
          "name": "stdout",
          "text": [
            "Nhap so nguyen x (co 4 chu so): 1234\n",
            "So dao cua 1234 la 4321\n"
          ]
        }
      ]
    },
    {
      "cell_type": "code",
      "source": [
        "# DoSangRadian\n",
        "\n",
        "import math\n",
        "\n",
        "# Nhập dữ liệu\n",
        "deg = float(input(\"Nhap goc (do): \"))\n",
        "\n",
        "# Xử lý: đổi sang radian\n",
        "rad = math.radians(deg)\n",
        "\n",
        "# Xuất dữ liệu (lấy 4 chữ số thập phân)\n",
        "print(\"%.2f do = %.4f radian\" % (deg, rad))\n"
      ],
      "metadata": {
        "colab": {
          "base_uri": "https://localhost:8080/"
        },
        "id": "SQhziap0KXQK",
        "outputId": "e1cf5044-fd22-48c9-88c8-4e6f37753c35"
      },
      "execution_count": null,
      "outputs": [
        {
          "output_type": "stream",
          "name": "stdout",
          "text": [
            "Nhap goc (do): 12\n",
            "12.00 do = 0.2094 radian\n"
          ]
        }
      ]
    },
    {
      "cell_type": "code",
      "source": [
        "# HamSo1\n",
        "\n",
        "import math\n",
        "\n",
        "# Nhập dữ liệu\n",
        "x = float(input(\"Nhap gia tri x: \"))\n",
        "\n",
        "# Tính toán\n",
        "y1 = 4 * (x**2 + 10*math.sqrt(x) + 3*x + 1)\n",
        "y2 = (math.sin(math.pi * x**2) + math.sqrt(x**2 + 1)) / (math.exp(2*x) + math.cos(math.pi * x / 4))\n",
        "\n",
        "# Xuất dữ liệu (làm tròn 2 số lẻ)\n",
        "print(\"y1 = %.2f\" % y1)\n",
        "print(\"y2 = %.2f\" % y2)\n"
      ],
      "metadata": {
        "colab": {
          "base_uri": "https://localhost:8080/"
        },
        "id": "qFbH8ZyhKb5i",
        "outputId": "c64c3361-1313-4cd1-d5b1-0c5b755d7561"
      },
      "execution_count": null,
      "outputs": [
        {
          "output_type": "stream",
          "name": "stdout",
          "text": [
            "Nhap gia tri x: 2\n",
            "y1 = 100.57\n",
            "y2 = 0.04\n"
          ]
        }
      ]
    },
    {
      "cell_type": "code",
      "source": [
        "# KhoangCach\n",
        "\n",
        "import math\n",
        "\n",
        "# Nhập dữ liệu\n",
        "x1 = float(input(\"Nhap hoanh do x1: \"))\n",
        "y1 = float(input(\"Nhap tung do y1: \"))\n",
        "x2 = float(input(\"Nhap hoanh do x2: \"))\n",
        "y2 = float(input(\"Nhap tung do y2: \"))\n",
        "\n",
        "# Xử lý: công thức khoảng cách\n",
        "d = math.sqrt((x2 - x1)**2 + (y2 - y1)**2)\n",
        "\n",
        "# Xuất dữ liệu (2 chữ số thập phân)\n",
        "print(\"Khoang cach giua A(%.2f, %.2f) va B(%.2f, %.2f) la %.2f\" % (x1, y1, x2, y2, d))\n"
      ],
      "metadata": {
        "colab": {
          "base_uri": "https://localhost:8080/"
        },
        "id": "KW0fSSL3KlmZ",
        "outputId": "aa04a039-dcf4-40cc-a2f8-285ee5381c45"
      },
      "execution_count": null,
      "outputs": [
        {
          "output_type": "stream",
          "name": "stdout",
          "text": [
            "Nhap hoanh do x1: 2\n",
            "Nhap tung do y1: 5\n",
            "Nhap hoanh do x2: 6\n",
            "Nhap tung do y2: 4\n",
            "Khoang cach giua A(2.00, 5.00) va B(6.00, 4.00) la 4.12\n"
          ]
        }
      ]
    },
    {
      "cell_type": "code",
      "source": [
        "# MaxMin5\n",
        "a = float(input(\"Nhap so thu nhat: \"))\n",
        "b = float(input(\"Nhap so thu hai: \"))\n",
        "c = float(input(\"Nhap so thu ba: \"))\n",
        "d = float(input(\"Nhap so thu tu: \"))\n",
        "e = float(input(\"Nhap so thu nam: \"))\n",
        "\n",
        "\n",
        "vals = [a, b, c, d, e]\n",
        "print(int(min(vals)) if all(v.is_integer() for v in map(float, vals)) else min(vals),\n",
        "      int(max(vals)) if all(v.is_integer() for v in map(float, vals)) else max(vals))"
      ],
      "metadata": {
        "colab": {
          "base_uri": "https://localhost:8080/"
        },
        "id": "4ry_fBFoK_NF",
        "outputId": "39f74c46-fd53-4eba-a24a-8112593a7981"
      },
      "execution_count": null,
      "outputs": [
        {
          "output_type": "stream",
          "name": "stdout",
          "text": [
            "Nhap so thu nhat: 1 \n",
            "Nhap so thu hai: 5\n",
            "Nhap so thu ba: 6\n",
            "Nhap so thu tu: 2\n",
            "Nhap so thu nam: 8\n",
            "1 8\n"
          ]
        }
      ]
    },
    {
      "cell_type": "code",
      "source": [
        "# SolvQuadEq9\n",
        "import math\n",
        "\n",
        "a = float(input(\"Nhap he so a: \"))\n",
        "b = float(input(\"Nhap he so b: \"))\n",
        "c = float(input(\"Nhap he so c: \"))\n",
        "\n",
        "if a == 0:\n",
        "    # Về PT bậc 1: bx + c = 0\n",
        "    if b == 0:\n",
        "        print(\"Unlimited solutions\" if c == 0 else \"No solution\")\n",
        "    else:\n",
        "        x = -c / b\n",
        "        print(\"x1=%.2f\" % x)\n",
        "else:\n",
        "    delta = b*b - 4*a*c\n",
        "    if delta < 0:\n",
        "        print(\"No solution\")\n",
        "    elif delta == 0:\n",
        "        x = -b / (2*a)\n",
        "        print(\"x1=%.2f\" % x)\n",
        "    else:\n",
        "        sqrtD = math.sqrt(delta)\n",
        "        x1 = (-b - sqrtD) / (2*a)\n",
        "        x2 = (-b + sqrtD) / (2*a)\n",
        "        # In theo thứ tự tăng dần cho đẹp\n",
        "        if x1 > x2: x1, x2 = x2, x1\n",
        "        print(\"x1=%.2f, x2=%.2f\" % (x1, x2))"
      ],
      "metadata": {
        "colab": {
          "base_uri": "https://localhost:8080/"
        },
        "id": "rUIzv_LOLcHY",
        "outputId": "445edc49-580d-4bc7-9fa6-18b9ed6680ea"
      },
      "execution_count": null,
      "outputs": [
        {
          "output_type": "stream",
          "name": "stdout",
          "text": [
            "Nhap he so a: 0\n",
            "Nhap he so b: 0\n",
            "Nhap he so c: 5\n",
            "No solution\n"
          ]
        }
      ]
    },
    {
      "cell_type": "code",
      "source": [
        "# TotalDayMonth\n",
        "\n",
        "def is_leap(y: int) -> bool:\n",
        "    # Năm nhuận: chia hết cho 400\n",
        "    # hoặc chia hết cho 4 nhưng không chia hết cho 100\n",
        "    return (y % 400 == 0) or (y % 4 == 0 and y % 100 != 0)\n",
        "\n",
        "m = int(input())  # tháng\n",
        "y = int(input())  # năm\n",
        "\n",
        "if m in (1, 3, 5, 7, 8, 10, 12):\n",
        "    days = 31\n",
        "elif m in (4, 6, 9, 11):\n",
        "    days = 30\n",
        "elif m == 2:\n",
        "    days = 29 if is_leap(y) else 28\n",
        "else:\n",
        "    raise ValueError(\"Month must be 1..12\")\n",
        "\n",
        "print(days)\n"
      ],
      "metadata": {
        "colab": {
          "base_uri": "https://localhost:8080/"
        },
        "id": "rNagEZHdMgQ0",
        "outputId": "72b3aa95-1ad7-49b3-a5f0-5ad50b4dd207"
      },
      "execution_count": null,
      "outputs": [
        {
          "output_type": "stream",
          "name": "stdout",
          "text": [
            "1\n",
            "2015\n",
            "31\n"
          ]
        }
      ]
    },
    {
      "cell_type": "code",
      "source": [
        "# MaxDigit\n",
        "\n",
        "n = int(input())             # ví dụ 2387\n",
        "digits = [int(ch) for ch in str(abs(n))]\n",
        "\n",
        "# (tuỳ GV yêu cầu có kiểm tra 4 chữ số hay không)\n",
        "# if not (1000 <= abs(n) <= 9999): raise ValueError(\"n must have 4 digits\")\n",
        "\n",
        "print(max(digits))\n"
      ],
      "metadata": {
        "colab": {
          "base_uri": "https://localhost:8080/"
        },
        "id": "8fXv26c7NeJd",
        "outputId": "6ea37ba5-ca26-4ce5-f378-f6ed15dfdcf9"
      },
      "execution_count": null,
      "outputs": [
        {
          "output_type": "stream",
          "name": "stdout",
          "text": [
            "2387\n",
            "8\n"
          ]
        }
      ]
    },
    {
      "cell_type": "code",
      "source": [
        "# GPA\n",
        "\n",
        "math = float(input(\"Math: \"))\n",
        "phys = float(input(\"Physic: \"))\n",
        "chem = float(input(\"Chemistry: \"))\n",
        "\n",
        "gpa = (math*2 + phys*3 + chem) / 6\n",
        "\n",
        "if 8 <= gpa <= 10:\n",
        "    rating = \"Good\"\n",
        "elif 6.5 <= gpa < 8:\n",
        "    rating = \"Pretty\"\n",
        "elif 5 <= gpa < 6.5:\n",
        "    rating = \"Average\"\n",
        "else:\n",
        "    rating = \"Weak\"\n",
        "\n",
        "print(\"Average point = %.2f, rating %s.\" % (gpa, rating))\n"
      ],
      "metadata": {
        "colab": {
          "base_uri": "https://localhost:8080/"
        },
        "id": "uw64kGi_N8jv",
        "outputId": "951d664d-9ca3-4c29-95ea-43b1dbfccc94"
      },
      "execution_count": null,
      "outputs": [
        {
          "output_type": "stream",
          "name": "stdout",
          "text": [
            "Math: 7\n",
            "Physic: 6\n",
            "Chemistry: 8\n",
            "Average point = 6.67, rating Pretty.\n"
          ]
        }
      ]
    },
    {
      "cell_type": "code",
      "source": [
        "# WaterPayment\n",
        "def tier_cost(consumed: int, people: int) -> int:\n",
        "    tier1_quota = 4 * people  # 4 m3/người\n",
        "    tier2_quota = 2 * people  # 2 m3/người tiếp theo\n",
        "\n",
        "    t1 = min(consumed, tier1_quota)\n",
        "    t2 = min(max(consumed - t1, 0), tier2_quota)\n",
        "    t3 = max(consumed - t1 - t2, 0)\n",
        "\n",
        "    return t1*4400 + t2*8300 + t3*10500\n",
        "\n",
        "old_idx = int(input(\"Old meter (m3): \"))\n",
        "new_idx = int(input(\"New meter (m3): \"))\n",
        "people  = int(input(\"Number of people: \"))\n",
        "\n",
        "if new_idx < old_idx:\n",
        "    raise ValueError(\"New meter must be >= old meter\")\n",
        "\n",
        "used = new_idx - old_idx\n",
        "subtotal = tier_cost(used, people)\n",
        "total_with_tax = int(round(subtotal * 1.15))  # VAT 5% + phí MT 10%\n",
        "\n",
        "print(f\"Consumed in month: {used} m^3\")\n",
        "print(f\"Payment (before tax/fees) : {subtotal:,} VND\")\n",
        "print(f\"Payment (after 15% taxes) : {total_with_tax:,} VND\")\n"
      ],
      "metadata": {
        "colab": {
          "base_uri": "https://localhost:8080/"
        },
        "id": "Bl141oSyOBjs",
        "outputId": "c4b95522-37a5-4c83-c093-148d5bd83ac4"
      },
      "execution_count": null,
      "outputs": [
        {
          "output_type": "stream",
          "name": "stdout",
          "text": [
            "Old meter (m3): 1\n",
            "New meter (m3): 3\n",
            "Number of people: 1\n",
            "Consumed in month: 2 m^3\n",
            "Payment (before tax/fees) : 8,800 VND\n",
            "Payment (after 15% taxes) : 10,120 VND\n"
          ]
        }
      ]
    },
    {
      "cell_type": "code",
      "source": [
        "# NextDay\n",
        "\n",
        "import datetime\n",
        "\n",
        "# Nhập dữ liệu\n",
        "d = int(input(\"Nhap ngay: \"))\n",
        "m = int(input(\"Nhap thang: \"))\n",
        "y = int(input(\"Nhap nam: \"))\n",
        "\n",
        "# Tạo đối tượng ngày\n",
        "today = datetime.date(y, m, d)\n",
        "tomorrow = today + datetime.timedelta(days=1)\n",
        "\n",
        "# Xuất kết quả\n",
        "print(\"Ngay hom sau la: %d/%d/%d\" % (tomorrow.day, tomorrow.month, tomorrow.year))\n"
      ],
      "metadata": {
        "colab": {
          "base_uri": "https://localhost:8080/"
        },
        "id": "9uJHfSXGPSxb",
        "outputId": "f57702e2-5e5e-437f-dd66-b2c03c44ddd6"
      },
      "execution_count": null,
      "outputs": [
        {
          "output_type": "stream",
          "name": "stdout",
          "text": [
            "Nhap ngay: 31\n",
            "Nhap thang: 1\n",
            "Nhap nam: 2015\n",
            "Ngay hom sau la: 1/2/2015\n"
          ]
        }
      ]
    },
    {
      "cell_type": "code",
      "source": [
        "# NumberInfo\n",
        "\n",
        "n = int(input(\"Nhap so n (<1000): \"))\n",
        "\n",
        "# (a) số chữ số\n",
        "digits = len(str(n))\n",
        "\n",
        "# (b) tổng chữ số\n",
        "s = sum(int(ch) for ch in str(n))\n",
        "\n",
        "# (c) chữ số cuối\n",
        "last = n % 10\n",
        "\n",
        "# (d) chữ số đầu\n",
        "first = int(str(n)[0])\n",
        "\n",
        "# Xuất kết quả\n",
        "print(\"%d has %d digits.\" % (n, digits))\n",
        "print(\" + \".join(ch for ch in str(n)) + \" = %d\" % s)\n",
        "print(\"Last digit is %d.\" % last)\n",
        "print(\"First digit is %d.\" % first)\n"
      ],
      "metadata": {
        "colab": {
          "base_uri": "https://localhost:8080/"
        },
        "id": "fWVm1atNPYQU",
        "outputId": "a951351a-2057-4160-fd8a-73a77af6db9c"
      },
      "execution_count": null,
      "outputs": [
        {
          "output_type": "stream",
          "name": "stdout",
          "text": [
            "Nhap so n (<1000): 156\n",
            "156 has 3 digits.\n",
            "1 + 5 + 6 = 12\n",
            "Last digit is 6.\n",
            "First digit is 1.\n"
          ]
        }
      ]
    }
  ]
}